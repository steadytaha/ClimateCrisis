{
 "cells": [
  {
   "cell_type": "markdown",
   "metadata": {},
   "source": [
    "# THE CLIMATE CRISIS REPORT"
   ]
  },
  {
   "cell_type": "markdown",
   "metadata": {},
   "source": [
    "### Preparations for the analysis"
   ]
  },
  {
   "cell_type": "code",
   "execution_count": null,
   "metadata": {},
   "outputs": [],
   "source": [
    "# Preparing the environment (Before running this cell you need to upload 'kaggle.json' file)\n",
    "!mkdir -p ~/.kaggle\n",
    "!cp kaggle.json ~/.kaggle/\n",
    "!chmod 600 /root/.kaggle/kaggle.json"
   ]
  },
  {
   "cell_type": "code",
   "execution_count": null,
   "metadata": {},
   "outputs": [],
   "source": [
    "# Datasets we will be use:\n",
    "!wget https://nyc3.digitaloceanspaces.com/owid-public/data/co2/owid-co2-data.csv\n",
    "!kaggle datasets download -d berkeleyearth/climate-change-earth-surface-temperature-data"
   ]
  },
  {
   "cell_type": "code",
   "execution_count": null,
   "metadata": {},
   "outputs": [],
   "source": [
    "# Deatach the zip file\n",
    "import zipfile\n",
    "zip_ref = zipfile.ZipFile('/content/climate-change-earth-surface-temperature-data.zip', 'r')\n",
    "zip_ref.extractall('/content')\n",
    "zip_ref.close()"
   ]
  },
  {
   "cell_type": "code",
   "execution_count": null,
   "metadata": {},
   "outputs": [],
   "source": [
    "# Importing libraries\n",
    "import seaborn as sns\n",
    "from matplotlib import pyplot as plt\n",
    "import pandas as pd\n",
    "import numpy as np"
   ]
  },
  {
   "cell_type": "markdown",
   "metadata": {},
   "source": [
    "## Turkey"
   ]
  },
  {
   "cell_type": "code",
   "execution_count": null,
   "metadata": {},
   "outputs": [],
   "source": [
    "# Preparing the dataset\n",
    "data = pd.read_csv(\"./GlobalLandTemperaturesByCountry.csv\")\n",
    "data['Date'] = pd.to_datetime(data['dt']) # Converting all dates to the same format\n",
    "data.drop(columns = ['dt'], axis = 1, inplace = True) # Dropping the dt column\n",
    "\n",
    "# Creating 'Year' column\n",
    "data['Year'] = data['Date'].dt.year\n",
    "\n",
    "# For future analysis, we will work only on yearly data, as average (because there are dates missing and data is not consistent)\n",
    "earth_data = data.groupby(by = ['Year', 'Country'])[['AverageTemperature']].mean().reset_index()\n",
    "earth_data = earth_data.astype({'Year': 'int'})\n",
    "turkey_data = earth_data[(earth_data['Year'] >= 1990) & (earth_data['Country'] == 'Turkey')].reset_index(drop=True)\n",
    "turkey_data.tail()"
   ]
  },
  {
   "cell_type": "code",
   "execution_count": null,
   "metadata": {},
   "outputs": [],
   "source": [
    "# Function to add new rows\n",
    "def add_new_temps(df, temp):\n",
    "    last_index = df.index[-1]\n",
    "    new_row = {'Year': df.at[last_index, 'Year'] + 1,\n",
    "               'Country': df.at[last_index, 'Country'],\n",
    "               'AverageTemperature': temp}\n",
    "    df = pd.concat([df, pd.DataFrame([new_row])], ignore_index=True)\n",
    "    return df\n",
    "\n",
    "temp_list = [14.9, 12.2, 13.8, 14.2, 15.4, 14.7, 14.9, 14.9, 14.5]\n",
    "for temp in temp_list:\n",
    "   turkey_data = add_new_temps(turkey_data, temp)\n",
    "\n",
    "turkey_data.tail(20)"
   ]
  },
  {
   "cell_type": "code",
   "execution_count": null,
   "metadata": {},
   "outputs": [],
   "source": [
    "# Gas emissions data\n",
    "data_co2 = pd.read_csv(\"./owid-co2-data.csv\")\n",
    "data_co2.shape"
   ]
  },
  {
   "cell_type": "code",
   "execution_count": null,
   "metadata": {},
   "outputs": [],
   "source": [
    "# Turkey's gas emissions data\n",
    "turkey_co2 = data_co2[(data_co2['iso_code'] == 'TUR') & (data_co2['year'] >= 1990)][['year', 'country', 'co2', 'methane', 'nitrous_oxide', 'total_ghg']].reset_index(drop=True)\n",
    "turkey_co2.tail()"
   ]
  },
  {
   "cell_type": "code",
   "execution_count": null,
   "metadata": {},
   "outputs": [],
   "source": [
    "# Checking for missing values\n",
    "turkey_co2.isnull().sum()"
   ]
  },
  {
   "cell_type": "code",
   "execution_count": null,
   "metadata": {},
   "outputs": [],
   "source": [
    "# Filling missing values by the information from climatedata.imf.org\n",
    "turkey_co2.iloc[-2, 3] = 64\n",
    "turkey_co2.iloc[-1, 3] = 64.71\n",
    "turkey_co2.iloc[-2, 4] = 40.30\n",
    "turkey_co2.iloc[-1, 4] = 42.64\n",
    "turkey_co2.iloc[-2, 5] = 516.66\n",
    "turkey_co2.iloc[-1, 5] = 534.57"
   ]
  },
  {
   "cell_type": "code",
   "execution_count": null,
   "metadata": {},
   "outputs": [],
   "source": [
    "# Checking for added values\n",
    "turkey_co2.tail()"
   ]
  },
  {
   "cell_type": "code",
   "execution_count": null,
   "metadata": {},
   "outputs": [],
   "source": [
    "# Merging the data\n",
    "turkey_co2.columns = turkey_co2.columns.str.capitalize()\n",
    "turkey_data = turkey_data.merge(turkey_co2, on='Year', suffixes=('', '_co2'))\n",
    "columns_to_drop = turkey_data.filter(like='_co2').columns\n",
    "turkey_data.drop(columns=columns_to_drop, inplace=True)\n",
    "turkey_data.tail()"
   ]
  },
  {
   "cell_type": "code",
   "execution_count": null,
   "metadata": {},
   "outputs": [],
   "source": [
    "# Renaming the columns\n",
    "column_mapping = {\n",
    "    'Co2': 'CO2',\n",
    "    'Nitrous_oxide': 'NO2',\n",
    "    'Total_ghg': 'GreenhouseGas'\n",
    "}\n",
    "\n",
    "turkey_data.rename(columns=column_mapping, inplace=True)\n",
    "turkey_data.tail()"
   ]
  },
  {
   "cell_type": "code",
   "execution_count": null,
   "metadata": {},
   "outputs": [],
   "source": [
    "# Plotting the data\n",
    "columns = ['Year', 'Country']\n",
    "turkey_subset = turkey_data.drop(columns=columns)\n",
    "sns.heatmap(turkey_subset.corr(), annot=True, cmap='coolwarm', fmt=\".2f\", linewidths=0.5)"
   ]
  },
  {
   "cell_type": "code",
   "execution_count": null,
   "metadata": {},
   "outputs": [],
   "source": [
    "from sklearn.model_selection import train_test_split\n",
    "from sklearn.linear_model import LinearRegression\n",
    "\n",
    "\n",
    "# Splitting data into training and testing sets\n",
    "X = turkey_data[['CO2', 'Methane', 'NO2', 'GreenhouseGas']]\n",
    "y = turkey_data['AverageTemperature']\n",
    "X_train, X_test, y_train, y_test = train_test_split(X, y, test_size=0.2, random_state=42)\n",
    "\n",
    "# Training a linear regression model\n",
    "model = LinearRegression()\n",
    "model.fit(X_train, y_train)\n",
    "\n",
    "# Evaluating the model\n",
    "train_score = model.score(X_train, y_train)\n",
    "test_score = model.score(X_test, y_test)\n",
    "print(\"Training R^2 score:\", train_score)\n",
    "print(\"Testing R^2 score:\", test_score)\n",
    "\n",
    "# Training model to predict CO2\n",
    "model_CO2 = LinearRegression()\n",
    "model_CO2.fit(turkey_data[['Year']], turkey_data['CO2'])\n",
    "\n",
    "# Training model to predict Methane\n",
    "model_Methane = LinearRegression()\n",
    "model_Methane.fit(turkey_data[['Year']], turkey_data['Methane'])\n",
    "\n",
    "# Training model to predict NO2\n",
    "model_NO2 = LinearRegression()\n",
    "model_NO2.fit(turkey_data[['Year']], turkey_data['NO2'])\n",
    "\n",
    "# Training model to predict GreenhouseGas\n",
    "model_GreenhouseGas = LinearRegression()\n",
    "model_GreenhouseGas.fit(turkey_data[['Year']], turkey_data['GreenhouseGas'])\n",
    "\n",
    "# Making predictions for future years\n",
    "# Assuming you want to predict for the next 5 years\n",
    "future_years = range(2023, 2033)\n",
    "future_CO2 = model_CO2.predict(pd.DataFrame({'Year': future_years}))\n",
    "future_Methane = model_Methane.predict(pd.DataFrame({'Year': future_years}))\n",
    "future_NO2 = model_NO2.predict(pd.DataFrame({'Year': future_years}))\n",
    "future_GreenhouseGas = model_GreenhouseGas.predict(pd.DataFrame({'Year': future_years}))\n",
    "\n",
    "# Creating future_data DataFrame\n",
    "future_data = pd.DataFrame({\n",
    "    'CO2': future_CO2,\n",
    "    'Methane': future_Methane,\n",
    "    'NO2': future_NO2,\n",
    "    'GreenhouseGas': future_GreenhouseGas\n",
    "}, index=future_years)\n",
    "\n",
    "future_predictions = model.predict(future_data)\n",
    "\n",
    "# Visualizing the results\n",
    "plt.figure(figsize=(10, 6))\n",
    "plt.plot(turkey_data['Year'], turkey_data['AverageTemperature'], label='Actual Data')\n",
    "plt.plot(future_years, future_predictions, 'ro--', label='Predicted Data')\n",
    "plt.xlabel('Year')\n",
    "plt.ylabel('Average Temperature (°C)')\n",
    "plt.title('Average Temperature Prediction for Turkey')\n",
    "plt.legend()\n",
    "plt.grid(True)\n",
    "plt.show()\n"
   ]
  },
  {
   "cell_type": "code",
   "execution_count": null,
   "metadata": {},
   "outputs": [],
   "source": [
    "# Plotting\n",
    "fig, ax1 = plt.subplots(figsize=(10, 6))\n",
    "\n",
    "# Bar plot for temperature\n",
    "ax1.bar(turkey_data['Year'], turkey_data['AverageTemperature'], color='lightblue', label='Average Temperature')\n",
    "ax1.set_xlabel('Year')\n",
    "ax1.set_ylabel('Average Temperature (°C)', color='blue')\n",
    "ax1.tick_params(axis='y', labelcolor='blue')\n",
    "\n",
    "# Creating a second y-axis\n",
    "ax2 = ax1.twinx()\n",
    "ax2.plot(turkey_data['Year'], turkey_data['CO2'], marker='o', color='red', label='CO2')\n",
    "ax2.plot(turkey_data['Year'], turkey_data['Methane'], marker='o', color='green', label='Methane')\n",
    "ax2.plot(turkey_data['Year'], turkey_data['NO2'], marker='o', color='orange', label='NO2')\n",
    "ax2.plot(turkey_data['Year'], turkey_data['GreenhouseGas'], marker='o', color='purple', label='Greenhouse Gasses')\n",
    "\n",
    "ax2.set_ylabel('Gas Emissions', color='black')\n",
    "ax2.tick_params(axis='y', labelcolor='black')\n",
    "\n",
    "# Adding legends\n",
    "fig.legend(loc='upper left', bbox_to_anchor=(0.1,0.9))\n",
    "# ax1.legend(loc='upper left', bbox_to_anchor=(0.1,0.8))\n",
    "# ax2.legend(loc='upper left', bbox_to_anchor=(0.1,0.7))\n",
    "\n",
    "plt.title('Gas Emissions and Average Temperature by Year in Turkey')\n",
    "plt.show()"
   ]
  },
  {
   "cell_type": "markdown",
   "metadata": {},
   "source": [
    "## Europe"
   ]
  },
  {
   "cell_type": "code",
   "execution_count": null,
   "metadata": {},
   "outputs": [],
   "source": [
    "# Europe's gas emissions data\n",
    "europe_co2 = data_co2[(data_co2['country'] == 'Europe') & (data_co2['year'] >= 1990)][['year', 'country', 'co2', 'methane', 'nitrous_oxide', 'total_ghg']].reset_index(drop=True)\n",
    "europe_co2.tail()"
   ]
  },
  {
   "cell_type": "code",
   "execution_count": null,
   "metadata": {},
   "outputs": [],
   "source": [
    "# Checking for missing values\n",
    "europe_co2.isnull().sum()"
   ]
  },
  {
   "cell_type": "code",
   "execution_count": null,
   "metadata": {},
   "outputs": [],
   "source": [
    "# Filling missing values by the information from Our World in Data \n",
    "europe_co2.iloc[-2, 3] = 1153\n",
    "europe_co2.iloc[-1, 3] = 1136.34\n",
    "europe_co2.iloc[-2, 4] = 426.91\n",
    "europe_co2.iloc[-1, 4] = 420.48\n",
    "europe_co2.iloc[-2, 5] = 6829.95\n",
    "europe_co2.iloc[-1, 5] = 6595.54"
   ]
  },
  {
   "cell_type": "code",
   "execution_count": null,
   "metadata": {},
   "outputs": [],
   "source": [
    "# Creating a new function for Europe\n",
    "\n",
    "def add_new_temps(df, temp):\n",
    "    last_index = df.index[-1]\n",
    "    new_row = {'Year': df.at[last_index, 'Year'] + 1,\n",
    "               'Country': df.at[last_index, 'Country'],\n",
    "               'AverageTemperature': temp}\n",
    "    df = pd.concat([df, pd.DataFrame([new_row])], ignore_index=True)\n",
    "    return df"
   ]
  },
  {
   "cell_type": "code",
   "execution_count": null,
   "metadata": {},
   "outputs": [],
   "source": [
    "# Country list\n",
    "\n",
    "european_countries = [\n",
    "    \"Albania\", \"Andorra\", \"Austria\", \"Belarus\", \"Belgium\", \"Bulgaria\",\n",
    "    \"Croatia\", \"Cyprus\", \"Czech Republic\", \"Denmark\", \"Estonia\", \"Finland\",\n",
    "    \"France\", \"Germany\", \"Greece\", \"Hungary\", \"Iceland\", \"Ireland\", \"Italy\",\n",
    "    \"Latvia\", \"Liechtenstein\", \"Lithuania\", \"Luxembourg\", \"Macedonia\",\n",
    "    \"Malta\", \"Montenegro\", \"Netherlands\", \"Norway\", \"Poland\", \"Portugal\", \"Moldova\",\n",
    "    \"Romania\", \"Russia\", \"Serbia\", \"Slovakia\", \"Slovenia\", \"Spain\", \"Sweden\",\n",
    "    \"Switzerland\", \"Ukraine\", \"United Kingdom\"\n",
    "]"
   ]
  },
  {
   "cell_type": "code",
   "execution_count": null,
   "metadata": {},
   "outputs": [],
   "source": [
    "# Checking for missing values\n",
    "for country in european_countries:\n",
    "  print(data_co2[(data_co2['country'] == country) & (data_co2['year'] == 2020)][['country', 'co2']])"
   ]
  },
  {
   "cell_type": "code",
   "execution_count": null,
   "metadata": {},
   "outputs": [],
   "source": [
    "# Creating Europe data\n",
    "europe_data = earth_data[earth_data['Country'].isin(european_countries) & (earth_data['Year'] >= 1990)]"
   ]
  },
  {
   "cell_type": "code",
   "execution_count": null,
   "metadata": {},
   "outputs": [],
   "source": [
    "# Missing values from Trading Economics website\n",
    "\n",
    "europe_temps = {\n",
    "    'Albania': [12.93, 12.87, 12.9, 12.75, 13.43, 13.33, 13.07, 12.89, 13.31],\n",
    "    'Andorra': [9.02, 8.81, 8.66, 8.59, 9.03, 8.9, 9.04, 8.38, 9.73],\n",
    "    'Austria': [8.37, 8.31, 7.76, 7.71, 8.55, 8.46, 8.25, 7.41, 8.65],\n",
    "    'Belarus': [7.97, 8.67, 7.81, 7.75, 8.11, 8.85, 9.09, 7.33, 7.98],\n",
    "    'Belgium': [11.72, 11.08, 10.76, 11.07, 11.65, 11.39, 11.89, 10.48, 11.98],\n",
    "    'Bulgaria': [12, 11.85, 11.9, 11.75, 12.34, 12.81, 12.49, 11.97, 12.28],\n",
    "    'Croatia': [12.78, 12.67, 12.26, 12.29, 13.08, 13.16, 12.62, 12.19, 13.16],\n",
    "    'Cyprus': [19.53, 18.91, 19.61, 19.21, 20.12, 19.49, 19.78, 19.87, 19.33],\n",
    "    'Czech Republic': [9.75, 9.64, 9.03, 8.96, 9.91, 9.81, 9.61, 8.5, 9.71],\n",
    "    'Denmark': [10.21, 9.38, 9.14, 9.05, 9.69, 9.71, 10.08, 8.96, 9.77],\n",
    "    'Estonia': [6.96, 7.39, 6.48, 6.29, 7.02, 7.2, 8.14, 6.3, 6.9],\n",
    "    'Finland': [3.33, 3.6, 2.97, 2.4, 3.1, 2.67, 4.15, 2.34, 3.24],\n",
    "    'France': [12.48, 12.17, 11.74, 11.96, 12.64, 12.38, 12.74, 11.58, 13.16],\n",
    "    'Germany': [10.64, 10.32, 9.98, 9.91, 10.73, 10.54, 10.78, 9.49, 10.83],\n",
    "    'Greece': [14.67, 14.35, 14.84, 14.51, 15.2, 15.16, 15.01, 15.09, 14.88],\n",
    "    'Hungary': [12.65, 12.4, 11.79, 11.86, 12.72, 12.86, 12.24, 11.58, 12.62],\n",
    "    'Iceland': [2.78, 1.44, 2.68, 2.47, 2.26, 2.31, 2.03, 2.43, 2.11],\n",
    "    'Ireland': [10.09, 9.44, 9.75, 9.99, 9.69, 9.86, 9.78, 9.94, 10.35],\n",
    "    'Italy': [13.84, 13.8, 13.54, 13.46, 14.1, 13.94, 13.83, 13.52, 14.38],\n",
    "    'Latvia': [7.36, 7.94, 7.08, 6.92, 7.6, 7.98, 8.56, 6.82, 7.4],\n",
    "    'Liechtenstein': [8.44, 8.48, 7.87, 7.92, 8.69, 8.39, 8.65, 7.44, 9.05],\n",
    "    'Lithuania': [7.84, 8.43, 7.69, 7.5, 8.19, 8.64, 8.96, 7.28, 7.95],\n",
    "    'Luxembourg': [11.06, 10.52, 10.09, 10.41, 11.13, 10.79, 11.29, 9.77, 11.43],\n",
    "    'Macedonia': [11.31, 11.18, 11.3, 11.17, 11.8, 11.91, 11.61, 11.39, 11.66],\n",
    "    'Malta': [20.12, 20.01, 20.19, 19.74, 20.02, 19.87, 19.99, 20.22, 20.26],\n",
    "    'Montenegro': [10.62, 10.65, 10.34, 10.4, 11.1, 11.13, 10.63, 10.25, 11],\n",
    "    'Moldova': [11.33, 11.94, 11.42, 11.4, 11.52, 12.39, 12.43, 10.95, 11.9],\n",
    "    'Netherlands': [11.63, 10.89, 10.67, 10.91, 11.41, 11.26, 11.69, 10.41, 11.72],\n",
    "    'Norway': [3.3, 2.93, 2.61, 2.28, 2.53, 2.27, 3.39, 2.11, 2.88],\n",
    "    'Poland': [9.79, 9.79, 9.25, 9.08, 9.95, 10.19, 10.03, 8.75, 9.7],\n",
    "    'Portugal': [16.2, 16.26, 16.12, 16.52, 15.82, 16.13, 16.42, 16.1, 16.9],\n",
    "    'Romania': [11.05, 11.09, 10.62, 10.66, 11.21, 11.7, 11.3, 10.35, 11.2],\n",
    "    'Russia': [-3.56, -2.88, -3.21, -2.89, -3.41, -2.85, -1.74, -3.65, -2.87],\n",
    "    'Serbia': [12.34, 12.18, 11.72, 11.87, 12.62, 12.79, 12.21, 11.7, 12.56],\n",
    "    'Slovakia': [10.08, 9.83, 9.21, 9.09, 10.06, 10.17, 9.63, 8.79, 9.81],\n",
    "    'Slovenia': [10.71, 10.56, 10.13, 10.11, 10.96, 10.99, 10.54, 10, 11.04],\n",
    "    'Spain': [14.63, 14.58, 14.42, 14.68, 14.29, 14.48, 14.72, 14.31, 15.3],\n",
    "    'Sweden': [4.23, 3.97, 3.49, 3.21, 3.63, 3.4, 4.53, 3.08, 3.84],\n",
    "    'Switzerland': [7.37, 7.37, 6.71, 6.85, 7.68, 7.31, 7.64, 6.39, 8.08],\n",
    "    'Ukraine': [9.74, 10.36, 9.71, 9.84, 9.88, 10.69, 10.86, 9.37, 10.04],\n",
    "    'United Kingdom': [9.93, 9.18, 9.35, 9.62, 9.49, 9.55, 9.68, 9.39, 10.11]\n",
    "}"
   ]
  },
  {
   "cell_type": "code",
   "execution_count": null,
   "metadata": {},
   "outputs": [],
   "source": [
    "# Adding missing values\n",
    "\n",
    "last_year = europe_data['Year'].max()\n",
    "\n",
    "# Creating a list to store new data\n",
    "new_data = []\n",
    "\n",
    "# Iterating over the countries and their new temperatures\n",
    "for country, temps in europe_temps.items():\n",
    "    for i, temp in enumerate(temps):\n",
    "        new_year = last_year + i + 1\n",
    "        new_data.append({'Year': new_year, 'Country': country, 'AverageTemperature': temp})\n",
    "\n",
    "# Converting new data to a dataframe and append to the existing dataframe\n",
    "new_df = pd.DataFrame(new_data)\n",
    "europe_data = pd.concat([europe_data, new_df], ignore_index=True)\n",
    "europe_data.head(20)"
   ]
  },
  {
   "cell_type": "code",
   "execution_count": null,
   "metadata": {},
   "outputs": [],
   "source": [
    "# Checking for missing values\n",
    "country_temp_counts = europe_data.groupby('Country')['AverageTemperature'].count().reset_index()\n",
    "country_temp_counts.columns = ['country', 'count']"
   ]
  },
  {
   "cell_type": "code",
   "execution_count": null,
   "metadata": {},
   "outputs": [],
   "source": [
    "# Calculating the average temperature for Europe year by year\n",
    "europe_data = europe_data.groupby('Year')['AverageTemperature'].mean().reset_index()\n",
    "\n",
    "# Adding a column for 'country' with the value 'Europe'\n",
    "europe_data['Country'] = 'Europe'\n",
    "europe_data = europe_data[['Year', 'Country', 'AverageTemperature']]\n",
    "europe_data"
   ]
  },
  {
   "cell_type": "code",
   "execution_count": null,
   "metadata": {},
   "outputs": [],
   "source": [
    "# Merging the data\n",
    "\n",
    "europe_co2.columns = europe_co2.columns.str.capitalize()\n",
    "europe_data = europe_data.merge(europe_co2, on='Year', suffixes=('', '_co2'))\n",
    "columns_to_drop = europe_data.filter(like='_co2').columns\n",
    "europe_data.drop(columns=columns_to_drop, inplace=True)\n",
    "europe_data.tail()"
   ]
  },
  {
   "cell_type": "code",
   "execution_count": null,
   "metadata": {},
   "outputs": [],
   "source": [
    "# Renaming the columns\n",
    "\n",
    "column_mapping = {\n",
    "    'Co2': 'CO2',\n",
    "    'Nitrous_oxide': 'NO2',\n",
    "    'Total_ghg': 'GreenhouseGas'\n",
    "}\n",
    "\n",
    "europe_data.rename(columns=column_mapping, inplace=True)\n",
    "europe_data.tail()"
   ]
  },
  {
   "cell_type": "code",
   "execution_count": null,
   "metadata": {},
   "outputs": [],
   "source": [
    "# Plotting the data correlation\n",
    "\n",
    "columns = ['Year', 'Country']\n",
    "europe_subset = europe_data.drop(columns=columns)\n",
    "sns.heatmap(europe_subset.corr(), annot=True, cmap='coolwarm', fmt=\".2f\", linewidths=0.5)"
   ]
  },
  {
   "cell_type": "code",
   "execution_count": null,
   "metadata": {},
   "outputs": [],
   "source": [
    "# Machine learning\n",
    "\n",
    "import pandas as pd\n",
    "import matplotlib.pyplot as plt\n",
    "from sklearn.model_selection import train_test_split\n",
    "from sklearn.linear_model import LinearRegression\n",
    "\n",
    "# Spliting data into training and testing sets\n",
    "X = europe_data[['CO2', 'Methane', 'NO2', 'GreenhouseGas']]\n",
    "y = europe_data['AverageTemperature']\n",
    "X_train, X_test, y_train, y_test = train_test_split(X, y, test_size=0.2, random_state=42)\n",
    "\n",
    "# Training a linear regression model\n",
    "model = LinearRegression()\n",
    "model.fit(X_train, y_train)\n",
    "\n",
    "# Evaluating the model\n",
    "train_score = model.score(X_train, y_train)\n",
    "test_score = model.score(X_test, y_test)\n",
    "print(\"Training R^2 score:\", train_score)\n",
    "print(\"Testing R^2 score:\", test_score)\n",
    "\n",
    "# Training models to predict individual pollutants over time\n",
    "def train_pollutant_model(feature):\n",
    "    model = LinearRegression()\n",
    "    model.fit(europe_data[['Year']], europe_data[feature])\n",
    "    return model\n",
    "\n",
    "pollutants = ['CO2', 'Methane', 'NO2', 'GreenhouseGas']\n",
    "models = {pollutant: train_pollutant_model(pollutant) for pollutant in pollutants}\n",
    "\n",
    "# Making predictions for future years\n",
    "future_years = range(2023, 2033)\n",
    "future_data = pd.DataFrame({feature: models[feature].predict(pd.DataFrame({'Year': future_years})) for feature in pollutants}, index=future_years)\n",
    "\n",
    "# Making temperature predictions based on future pollutant levels\n",
    "future_predictions = model.predict(future_data)\n",
    "\n",
    "# Visualize the results\n",
    "plt.figure(figsize=(10, 6))\n",
    "plt.plot(europe_data['Year'], europe_data['AverageTemperature'], label='Actual Data', marker='o')\n",
    "plt.plot(future_years, future_predictions, 'ro--', label='Predicted Data')\n",
    "plt.xlabel('Year')\n",
    "plt.ylabel('Average Temperature (°C)')\n",
    "plt.title('Average Temperature Prediction for Europe')\n",
    "plt.legend()\n",
    "plt.grid(True)\n",
    "plt.show()\n"
   ]
  }
 ],
 "metadata": {
  "language_info": {
   "name": "python"
  }
 },
 "nbformat": 4,
 "nbformat_minor": 2
}
